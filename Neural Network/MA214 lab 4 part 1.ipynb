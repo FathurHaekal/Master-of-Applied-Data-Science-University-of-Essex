{
 "cells": [
  {
   "cell_type": "markdown",
   "id": "0d9af2fa",
   "metadata": {},
   "source": [
    "Paths, component"
   ]
  },
  {
   "cell_type": "code",
   "execution_count": 5,
   "id": "b59d1199",
   "metadata": {},
   "outputs": [],
   "source": [
    "# Enable multiple outputs of a cell\n",
    "from IPython.core.interactiveshell import InteractiveShell\n",
    "InteractiveShell.ast_node_interactivity = 'all'"
   ]
  },
  {
   "cell_type": "markdown",
   "id": "9c825e1b",
   "metadata": {},
   "source": [
    "Import the module"
   ]
  },
  {
   "cell_type": "code",
   "execution_count": 6,
   "id": "c3ab5422",
   "metadata": {},
   "outputs": [],
   "source": [
    "import networkx as nx\n",
    "import matplotlib.pyplot as plt #The module you will need to visualize the networks"
   ]
  },
  {
   "cell_type": "markdown",
   "id": "92947e86",
   "metadata": {},
   "source": [
    "# Example 1 "
   ]
  },
  {
   "cell_type": "code",
   "execution_count": 7,
   "id": "5248a1d9",
   "metadata": {},
   "outputs": [
    {
     "data": {
      "image/png": "[encoded data removed]",
      "text/plain": [
       "<Figure size 640x480 with 1 Axes>"
      ]
     },
     "metadata": {},
     "output_type": "display_data"
    }
   ],
   "source": [
    "#Generate a network G1\n",
    "G1 = nx.Graph()\n",
    "G1.add_nodes_from([1,2,3,4,5,6,7,8,9,10])\n",
    "G1.add_edges_from([(1, 2), (1, 3), (1,8), (2,3), (2,4), (2,5), (2,6), (2,7), (3,6), (3,9), \n",
    "                  (4,5), (4, 7), (4,8), (5,7), (6,9)])\n",
    "nx.draw(G1, with_labels=True, node_color = 'cyan',font_weight='bold')\n",
    "plt.savefig('4_1.png')"
   ]
  },
  {
   "cell_type": "markdown",
   "id": "c8c51980",
   "metadata": {},
   "source": [
    "Check for the existence of paths between two nodes"
   ]
  },
  {
   "cell_type": "code",
   "execution_count": 8,
   "id": "fd9f510c",
   "metadata": {},
   "outputs": [
    {
     "data": {
      "text/plain": [
       "True"
      ]
     },
     "execution_count": 8,
     "metadata": {},
     "output_type": "execute_result"
    },
    {
     "data": {
      "text/plain": [
       "True"
      ]
     },
     "execution_count": 8,
     "metadata": {},
     "output_type": "execute_result"
    },
    {
     "data": {
      "text/plain": [
       "True"
      ]
     },
     "execution_count": 8,
     "metadata": {},
     "output_type": "execute_result"
    },
    {
     "data": {
      "text/plain": [
       "False"
      ]
     },
     "execution_count": 8,
     "metadata": {},
     "output_type": "execute_result"
    }
   ],
   "source": [
    "#check whether there is a path from the source node to the target node\n",
    "nx.has_path(G1, 1, 5)\n",
    "nx.has_path(G1, 1, 7)\n",
    "nx.has_path(G1, 2, 9)\n",
    "nx.has_path(G1, 5, 10)"
   ]
  },
  {
   "cell_type": "markdown",
   "id": "db55428c",
   "metadata": {},
   "source": [
    "Get the shortest path between two nodes "
   ]
  },
  {
   "cell_type": "code",
   "execution_count": 9,
   "id": "98d4c888",
   "metadata": {},
   "outputs": [
    {
     "name": "stdout",
     "output_type": "stream",
     "text": [
      "[1, 2, 6]\n"
     ]
    }
   ],
   "source": [
    "#Specify the source node and the target node\n",
    "p = nx.shortest_path(G1, source=1, target=6)\n",
    "print(p)"
   ]
  },
  {
   "cell_type": "code",
   "execution_count": 10,
   "id": "93fa2d23",
   "metadata": {},
   "outputs": [
    {
     "name": "stdout",
     "output_type": "stream",
     "text": [
      "{1: [1], 2: [1, 2], 3: [1, 3], 8: [1, 8], 4: [1, 2, 4], 5: [1, 2, 5], 6: [1, 2, 6], 7: [1, 2, 7], 9: [1, 3, 9]}\n"
     ]
    }
   ],
   "source": [
    "#Specify the source node \n",
    "p = nx.shortest_path(G1, source=1)\n",
    "print(p)"
   ]
  },
  {
   "cell_type": "code",
   "execution_count": 11,
   "id": "1e6ed4ef",
   "metadata": {},
   "outputs": [
    {
     "name": "stdout",
     "output_type": "stream",
     "text": [
      "{1: [1], 2: [2, 1], 3: [3, 1], 8: [8, 1], 4: [4, 2, 1], 5: [5, 2, 1], 6: [6, 2, 1], 7: [7, 2, 1], 9: [9, 3, 1]}\n"
     ]
    }
   ],
   "source": [
    "#Specify the target node\n",
    "p = nx.shortest_path(G1, target=1)\n",
    "print(p)"
   ]
  },
  {
   "cell_type": "code",
   "execution_count": 12,
   "id": "8bcb4792",
   "metadata": {},
   "outputs": [
    {
     "name": "stdout",
     "output_type": "stream",
     "text": [
      "{1: {1: [1], 2: [1, 2], 3: [1, 3], 8: [1, 8], 4: [1, 2, 4], 5: [1, 2, 5], 6: [1, 2, 6], 7: [1, 2, 7], 9: [1, 3, 9]}, 2: {2: [2], 1: [2, 1], 3: [2, 3], 4: [2, 4], 5: [2, 5], 6: [2, 6], 7: [2, 7], 8: [2, 1, 8], 9: [2, 3, 9]}, 3: {3: [3], 1: [3, 1], 2: [3, 2], 6: [3, 6], 9: [3, 9], 8: [3, 1, 8], 4: [3, 2, 4], 5: [3, 2, 5], 7: [3, 2, 7]}, 4: {4: [4], 2: [4, 2], 5: [4, 5], 7: [4, 7], 8: [4, 8], 1: [4, 2, 1], 3: [4, 2, 3], 6: [4, 2, 6], 9: [4, 2, 3, 9]}, 5: {5: [5], 2: [5, 2], 4: [5, 4], 7: [5, 7], 1: [5, 2, 1], 3: [5, 2, 3], 6: [5, 2, 6], 8: [5, 4, 8], 9: [5, 2, 3, 9]}, 6: {6: [6], 2: [6, 2], 3: [6, 3], 9: [6, 9], 1: [6, 2, 1], 4: [6, 2, 4], 5: [6, 2, 5], 7: [6, 2, 7], 8: [6, 2, 1, 8]}, 7: {7: [7], 2: [7, 2], 4: [7, 4], 5: [7, 5], 1: [7, 2, 1], 3: [7, 2, 3], 6: [7, 2, 6], 8: [7, 4, 8], 9: [7, 2, 3, 9]}, 8: {8: [8], 1: [8, 1], 4: [8, 4], 2: [8, 1, 2], 3: [8, 1, 3], 5: [8, 4, 5], 7: [8, 4, 7], 6: [8, 1, 2, 6], 9: [8, 1, 3, 9]}, 9: {9: [9], 3: [9, 3], 6: [9, 6], 1: [9, 3, 1], 2: [9, 3, 2], 8: [9, 3, 1, 8], 4: [9, 3, 2, 4], 5: [9, 3, 2, 5], 7: [9, 3, 2, 7]}, 10: {10: [10]}}\n"
     ]
    }
   ],
   "source": [
    "#Specify neither the source nor the target node \n",
    "p = nx.shortest_path(G1)\n",
    "print(p)"
   ]
  },
  {
   "cell_type": "markdown",
   "id": "d823a43c",
   "metadata": {},
   "source": [
    "Get all the possile shortest paths etween two nodes"
   ]
  },
  {
   "cell_type": "code",
   "execution_count": 13,
   "id": "0b501513",
   "metadata": {},
   "outputs": [
    {
     "name": "stdout",
     "output_type": "stream",
     "text": [
      "[[1, 2, 6], [1, 3, 6]]\n"
     ]
    }
   ],
   "source": [
    "#List out all the possible shortest paths from the source node to the target node\n",
    "print([p for p in nx.all_shortest_paths(G1, source=1, target=6)])"
   ]
  },
  {
   "cell_type": "markdown",
   "id": "329b446e",
   "metadata": {},
   "source": [
    "Compute the length of the shortest paths"
   ]
  },
  {
   "cell_type": "code",
   "execution_count": 14,
   "id": "187f14c2",
   "metadata": {},
   "outputs": [
    {
     "data": {
      "text/plain": [
       "{1: 0, 2: 1, 3: 1, 8: 1, 4: 2, 5: 2, 6: 2, 7: 2, 9: 2}"
      ]
     },
     "execution_count": 14,
     "metadata": {},
     "output_type": "execute_result"
    }
   ],
   "source": [
    "#The length of all the shortest paths from the source node to any other nodes\n",
    "p_l = nx.shortest_path_length(G1, source=1) \n",
    "p_l"
   ]
  },
  {
   "cell_type": "code",
   "execution_count": 15,
   "id": "2ea81eb3",
   "metadata": {},
   "outputs": [
    {
     "data": {
      "text/plain": [
       "{1: 0, 2: 1, 3: 1, 8: 1, 4: 2, 5: 2, 6: 2, 7: 2, 9: 2}"
      ]
     },
     "execution_count": 15,
     "metadata": {},
     "output_type": "execute_result"
    }
   ],
   "source": [
    "#The length of all the shortest paths any other nodes to the target node\n",
    "p_l = nx.shortest_path_length(G1, target=1) \n",
    "p_l"
   ]
  },
  {
   "cell_type": "code",
   "execution_count": 16,
   "id": "113f1526",
   "metadata": {},
   "outputs": [
    {
     "data": {
      "text/plain": [
       "2"
      ]
     },
     "execution_count": 16,
     "metadata": {},
     "output_type": "execute_result"
    }
   ],
   "source": [
    "#The length of the shortest paths between the source node and the target node\n",
    "p_l = nx.shortest_path_length(G1, source=1, target=6) \n",
    "p_l"
   ]
  },
  {
   "cell_type": "code",
   "execution_count": 17,
   "id": "fbdc653f",
   "metadata": {},
   "outputs": [
    {
     "data": {
      "text/plain": [
       "{1: {1: 0, 2: 1, 3: 1, 8: 1, 4: 2, 5: 2, 6: 2, 7: 2, 9: 2},\n",
       " 2: {2: 0, 1: 1, 3: 1, 4: 1, 5: 1, 6: 1, 7: 1, 8: 2, 9: 2},\n",
       " 3: {3: 0, 1: 1, 2: 1, 6: 1, 9: 1, 8: 2, 4: 2, 5: 2, 7: 2},\n",
       " 4: {4: 0, 2: 1, 5: 1, 7: 1, 8: 1, 1: 2, 3: 2, 6: 2, 9: 3},\n",
       " 5: {5: 0, 2: 1, 4: 1, 7: 1, 1: 2, 3: 2, 6: 2, 8: 2, 9: 3},\n",
       " 6: {6: 0, 2: 1, 3: 1, 9: 1, 1: 2, 4: 2, 5: 2, 7: 2, 8: 3},\n",
       " 7: {7: 0, 2: 1, 4: 1, 5: 1, 1: 2, 3: 2, 6: 2, 8: 2, 9: 3},\n",
       " 8: {8: 0, 1: 1, 4: 1, 2: 2, 3: 2, 5: 2, 7: 2, 6: 3, 9: 3},\n",
       " 9: {9: 0, 3: 1, 6: 1, 1: 2, 2: 2, 8: 3, 4: 3, 5: 3, 7: 3},\n",
       " 10: {10: 0}}"
      ]
     },
     "execution_count": 17,
     "metadata": {},
     "output_type": "execute_result"
    }
   ],
   "source": [
    "#The length of all the shortest paths between any pair of nodes \n",
    "p_l = dict(nx.shortest_path_length(G1))\n",
    "p_l"
   ]
  },
  {
   "cell_type": "markdown",
   "id": "9a290c2e",
   "metadata": {},
   "source": [
    "Compute the diameter"
   ]
  },
  {
   "cell_type": "code",
   "execution_count": 18,
   "id": "860bdd0d",
   "metadata": {},
   "outputs": [
    {
     "ename": "NetworkXError",
     "evalue": "Found infinite path length because the graph is not connected",
     "output_type": "error",
     "traceback": [
      "\u001b[1;31m---------------------------------------------------------------------------\u001b[0m",
      "\u001b[1;31mNetworkXError\u001b[0m                             Traceback (most recent call last)",
      "Cell \u001b[1;32mIn[18], line 4\u001b[0m\n\u001b[0;32m      1\u001b[0m \u001b[38;5;66;03m# Have error. Node 10 is not connected with any other nodes. \u001b[39;00m\n\u001b[0;32m      2\u001b[0m \u001b[38;5;66;03m# So, the length of the shortest path from any nodes to node 10 \u001b[39;00m\n\u001b[0;32m      3\u001b[0m \u001b[38;5;66;03m# (or from node 10 to any other nodes) should be infinite.\u001b[39;00m\n\u001b[1;32m----> 4\u001b[0m d \u001b[38;5;241m=\u001b[39m nx\u001b[38;5;241m.\u001b[39mdiameter(G1)\n",
      "File \u001b[1;32mc:\\Users\\fathu\\anaconda3\\Lib\\site-packages\\networkx\\algorithms\\distance_measures.py:377\u001b[0m, in \u001b[0;36mdiameter\u001b[1;34m(G, e, usebounds, weight)\u001b[0m\n\u001b[0;32m    375\u001b[0m     \u001b[38;5;28;01mreturn\u001b[39;00m _extrema_bounding(G, compute\u001b[38;5;241m=\u001b[39m\u001b[38;5;124m\"\u001b[39m\u001b[38;5;124mdiameter\u001b[39m\u001b[38;5;124m\"\u001b[39m, weight\u001b[38;5;241m=\u001b[39mweight)\n\u001b[0;32m    376\u001b[0m \u001b[38;5;28;01mif\u001b[39;00m e \u001b[38;5;129;01mis\u001b[39;00m \u001b[38;5;28;01mNone\u001b[39;00m:\n\u001b[1;32m--> 377\u001b[0m     e \u001b[38;5;241m=\u001b[39m eccentricity(G, weight\u001b[38;5;241m=\u001b[39mweight)\n\u001b[0;32m    378\u001b[0m \u001b[38;5;28;01mreturn\u001b[39;00m \u001b[38;5;28mmax\u001b[39m(e\u001b[38;5;241m.\u001b[39mvalues())\n",
      "File \u001b[1;32mc:\\Users\\fathu\\anaconda3\\Lib\\site-packages\\networkx\\algorithms\\distance_measures.py:317\u001b[0m, in \u001b[0;36meccentricity\u001b[1;34m(G, v, sp, weight)\u001b[0m\n\u001b[0;32m    315\u001b[0m         \u001b[38;5;28;01melse\u001b[39;00m:\n\u001b[0;32m    316\u001b[0m             msg \u001b[38;5;241m=\u001b[39m \u001b[38;5;124m\"\u001b[39m\u001b[38;5;124mFound infinite path length because the graph is not\u001b[39m\u001b[38;5;124m\"\u001b[39m \u001b[38;5;124m\"\u001b[39m\u001b[38;5;124m connected\u001b[39m\u001b[38;5;124m\"\u001b[39m\n\u001b[1;32m--> 317\u001b[0m         \u001b[38;5;28;01mraise\u001b[39;00m nx\u001b[38;5;241m.\u001b[39mNetworkXError(msg)\n\u001b[0;32m    319\u001b[0m     e[n] \u001b[38;5;241m=\u001b[39m \u001b[38;5;28mmax\u001b[39m(length\u001b[38;5;241m.\u001b[39mvalues())\n\u001b[0;32m    321\u001b[0m \u001b[38;5;28;01mif\u001b[39;00m v \u001b[38;5;129;01min\u001b[39;00m G:\n",
      "\u001b[1;31mNetworkXError\u001b[0m: Found infinite path length because the graph is not connected"
     ]
    }
   ],
   "source": [
    "# Have error. Node 10 is not connected with any other nodes. \n",
    "# So, the length of the shortest path from any nodes to node 10 \n",
    "# (or from node 10 to any other nodes) should be infinite.\n",
    "d = nx.diameter(G1)"
   ]
  },
  {
   "cell_type": "markdown",
   "id": "c85a9cb9",
   "metadata": {},
   "source": [
    "If we remove node 10 from G1, then we can compute the diameter correctly. "
   ]
  },
  {
   "cell_type": "code",
   "execution_count": null,
   "id": "5610eb3d",
   "metadata": {},
   "outputs": [
    {
     "name": "stdout",
     "output_type": "stream",
     "text": [
      "3\n"
     ]
    },
    {
     "data": {
      "image/png": "[encoded data removed]",
      "text/plain": [
       "<Figure size 640x480 with 1 Axes>"
      ]
     },
     "metadata": {},
     "output_type": "display_data"
    }
   ],
   "source": [
    "G2 = nx.Graph()\n",
    "G2.add_edges_from([(1, 2), (1, 3), (1,8), (2,3), (2,4), (2,5), (2,6), (2,7), (3,6), (3,9), \n",
    "                  (4,5), (4, 7), (4,8), (5,7), (6,9)])\n",
    "nx.draw(G2, with_labels=True, node_color = 'cyan',font_weight='bold')\n",
    "plt.savefig('4_2.png')\n",
    "d = nx.diameter(G2)\n",
    "print(d)"
   ]
  },
  {
   "cell_type": "markdown",
   "id": "dab65e22",
   "metadata": {},
   "source": [
    "Check whether the network is a connected network"
   ]
  },
  {
   "cell_type": "code",
   "execution_count": 19,
   "id": "9d8ec68c",
   "metadata": {},
   "outputs": [
    {
     "name": "stdout",
     "output_type": "stream",
     "text": [
      "False\n",
      "True\n"
     ]
    }
   ],
   "source": [
    "print(nx.is_connected(G1))\n",
    "print(nx.is_connected(G2))"
   ]
  },
  {
   "cell_type": "markdown",
   "id": "50f55e99",
   "metadata": {},
   "source": [
    "# Example 2 (example in the lecture notes)"
   ]
  },
  {
   "cell_type": "code",
   "execution_count": null,
   "id": "ab7ea660",
   "metadata": {},
   "outputs": [
    {
     "name": "stdout",
     "output_type": "stream",
     "text": [
      "List out all the shortest paths between every two nodes {1: {1: [1], 2: [1, 2], 3: [1, 3], 5: [1, 5], 6: [1, 2, 6], 4: [1, 3, 4]}, 2: {2: [2], 1: [2, 1], 6: [2, 6], 3: [2, 1, 3], 5: [2, 1, 5], 4: [2, 1, 3, 4]}, 3: {3: [3], 1: [3, 1], 4: [3, 4], 2: [3, 1, 2], 5: [3, 1, 5], 6: [3, 1, 2, 6]}, 5: {5: [5], 1: [5, 1], 4: [5, 4], 6: [5, 6], 2: [5, 1, 2], 3: [5, 1, 3]}, 6: {6: [6], 2: [6, 2], 5: [6, 5], 1: [6, 2, 1], 4: [6, 5, 4], 3: [6, 2, 1, 3]}, 4: {4: [4], 3: [4, 3], 5: [4, 5], 1: [4, 3, 1], 6: [4, 5, 6], 2: [4, 3, 1, 2]}}\n",
      "List out the length of all the shortest paths between every two nodes {1: {1: 0, 2: 1, 3: 1, 5: 1, 4: 2, 6: 2}, 2: {2: 0, 1: 1, 6: 1, 3: 2, 5: 2, 4: 3}, 3: {3: 0, 1: 1, 4: 1, 2: 2, 5: 2, 6: 3}, 5: {5: 0, 1: 1, 4: 1, 6: 1, 2: 2, 3: 2}, 6: {6: 0, 2: 1, 5: 1, 1: 2, 4: 2, 3: 3}, 4: {4: 0, 3: 1, 5: 1, 1: 2, 6: 2, 2: 3}}\n",
      "The diameter is  3\n",
      "Is it a connected network? True\n"
     ]
    },
    {
     "data": {
      "image/png": "[encoded data removed]",
      "text/plain": [
       "<Figure size 432x288 with 1 Axes>"
      ]
     },
     "metadata": {},
     "output_type": "display_data"
    }
   ],
   "source": [
    "G3 = nx.Graph()\n",
    "G3.add_edges_from([(1, 2), (1, 3), (1,5),(2,6), (3,4), (4,5), (5,6)])\n",
    "nx.draw(G3, with_labels=True, node_color = 'cyan',font_weight='bold')\n",
    "plt.savefig('4_3.png')\n",
    "p = nx.shortest_path(G3)\n",
    "print(\"List out the shortest paths between every two nodes\", p)\n",
    "p_l = dict(nx.shortest_path_length(G3))\n",
    "print(\"List out the length of the shortest paths between every two nodes\", p_l)\n",
    "d = nx.diameter(G3)\n",
    "print(\"The diameter is \", d)\n",
    "print(\"Is it a connected network?\", nx.is_connected(G3))"
   ]
  },
  {
   "cell_type": "markdown",
   "id": "45c9d582",
   "metadata": {},
   "source": [
    "# Example 3 "
   ]
  },
  {
   "cell_type": "markdown",
   "id": "66f26b2a",
   "metadata": {},
   "source": [
    "Shortest path, connected network (strongly, weakly, and semi) for directed network"
   ]
  },
  {
   "cell_type": "code",
   "execution_count": null,
   "id": "fec22042",
   "metadata": {},
   "outputs": [],
   "source": [
    "G4 = nx.DiGraph()\n",
    "G4.add_edges_from([(1, 2), (1, 3), (1,8), (2,3), (2,4), (2,5), (2,6), (2,7), (3,6), (3,9), \n",
    "                  (4,5), (4, 7), (4,8), (5,7), (6,9)])\n",
    "nx.draw(G4, with_labels=True, node_color = 'cyan',font_weight='bold')\n",
    "plt.savefig('4_4.png')\n",
    "p = nx.shortest_path(G4)\n",
    "print(\"List out all the shortest paths between every two nodes\", p)\n",
    "p_l = dict(nx.shortest_path_length(G4))\n",
    "print(\"List out the length of all the shortest paths between every two nodes\", p_l)\n",
    "print(\"Is it a weakly connected network?\", nx.is_weakly_connected(G4))\n",
    "print(\"Is it a strongly connected network?\", nx.is_strongly_connected(G4))\n",
    "print(\"Is it a semiconnected network?\", nx.is_semiconnected(G4))\n"
   ]
  },
  {
   "cell_type": "markdown",
   "id": "8f884bd1",
   "metadata": {},
   "source": [
    "You will get error when computing the diameter using:  \n",
    "\n",
    "d = nx.diameter(G4);\n",
    "print(\"The diameter is \", d)\n",
    "\n",
    "The reason behind is that the network is not strongly connected. There exist two nodes that have no directed path, and the length of the shortest path between them is infinite."
   ]
  },
  {
   "cell_type": "markdown",
   "id": "4fe033c3",
   "metadata": {},
   "source": [
    "# Example 4"
   ]
  },
  {
   "cell_type": "markdown",
   "id": "ffc6d0df",
   "metadata": {},
   "source": [
    "Get the edge-independent and node-independent paths"
   ]
  },
  {
   "cell_type": "code",
   "execution_count": null,
   "id": "dcb86118",
   "metadata": {},
   "outputs": [
    {
     "name": "stdout",
     "output_type": "stream",
     "text": [
      "Edge indepedent paths from 1 to 7:  [[1, 2, 4, 6, 7], [1, 3, 4, 5, 7]]\n",
      "Node indepedent paths from 1 to 7:  [[1, 2, 4, 5, 7]]\n"
     ]
    },
    {
     "data": {
      "image/png": "[encoded data removed]",
      "text/plain": [
       "<Figure size 432x288 with 1 Axes>"
      ]
     },
     "metadata": {},
     "output_type": "display_data"
    }
   ],
   "source": [
    "G5 = nx.Graph()\n",
    "G5.add_edges_from([(1, 2), (1, 3), (2,4),(3,4), (4,5), (4,6), (5,7), (6,7)])\n",
    "nx.draw(G5, with_labels=True, node_color = 'cyan',font_weight='bold')\n",
    "plt.savefig('4_5.png')\n",
    "e_p=list(nx.edge_disjoint_paths(G5, 1, 7))\n",
    "n_p=list(nx.node_disjoint_paths(G5, 1, 7))\n",
    "print(\"Edge indepedent paths from 1 to 7: \", e_p)\n",
    "print(\"Node indepedent paths from 1 to 7: \", n_p)"
   ]
  },
  {
   "cell_type": "markdown",
   "id": "8b902741",
   "metadata": {},
   "source": [
    "# Example 5"
   ]
  },
  {
   "cell_type": "markdown",
   "id": "76d942f6",
   "metadata": {},
   "source": [
    "Compute the number of connected components "
   ]
  },
  {
   "cell_type": "code",
   "execution_count": null,
   "id": "e8d430f4",
   "metadata": {},
   "outputs": [],
   "source": [
    "#undirected network\n",
    "G6 = nx.Graph()\n",
    "G6.add_edges_from([(1, 2), (2, 3), (4,5), (6,7), (6,8), (7,8), (7,9)])\n",
    "nx.draw(G6, with_labels=True, node_color = 'cyan',font_weight='bold')\n",
    "plt.savefig('4_6.png')\n",
    "c_num=nx.number_connected_components(G6)\n",
    "component=list(nx.connected_components(G6))\n",
    "A = nx.adjacency_matrix(G6)\n",
    "print(\"The numer of component: \", c_num)\n",
    "print(\"List out all the nodes in each component: \", component)\n",
    "print(\"Adjacency matrix: \", A.todense())"
   ]
  },
  {
   "cell_type": "code",
   "execution_count": null,
   "id": "933c52e2",
   "metadata": {},
   "outputs": [],
   "source": [
    "#directed network\n",
    "G7 = nx.DiGraph()\n",
    "G7.add_edges_from([(1, 2), (1,4), (2,3), (3,1), (5,6), (6,7), (7,8), (8,5), \n",
    "                   (7,9), (7,10), (9,10)])\n",
    "nx.draw(G7, with_labels=True, node_color = 'cyan',font_weight='bold')\n",
    "plt.savefig('4_7.png')\n",
    "strongly_component=list(nx.strongly_connected_components(G7))\n",
    "weakly_component=list(nx.weakly_connected_components(G7))\n",
    "print(\"List out all the nodes in each strongly component: \", strongly_component)\n",
    "print(\"List out all the nodes in each weakly component: \", weakly_component)"
   ]
  },
  {
   "cell_type": "code",
   "execution_count": null,
   "id": "97d32d6e",
   "metadata": {},
   "outputs": [],
   "source": []
  },
  {
   "cell_type": "code",
   "execution_count": null,
   "id": "35de1bbd",
   "metadata": {},
   "outputs": [],
   "source": []
  }
 ],
 "metadata": {
  "kernelspec": {
   "display_name": "Python 3 (ipykernel)",
   "language": "python",
   "name": "python3"
  },
  "language_info": {
   "codemirror_mode": {
    "name": "ipython",
    "version": 3
   },
   "file_extension": ".py",
   "mimetype": "text/x-python",
   "name": "python",
   "nbconvert_exporter": "python",
   "pygments_lexer": "ipython3",
   "version": "3.11.5"
  }
 },
 "nbformat": 4,
 "nbformat_minor": 5
}
